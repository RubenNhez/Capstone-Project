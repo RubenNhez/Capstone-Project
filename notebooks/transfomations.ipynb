{
 "cells": [
  {
   "cell_type": "code",
   "execution_count": 59,
   "id": "88ee451a",
   "metadata": {},
   "outputs": [],
   "source": [
    "# Imports\n",
    "import pandas as pd"
   ]
  },
  {
   "cell_type": "code",
   "execution_count": 60,
   "id": "fabf87f1",
   "metadata": {},
   "outputs": [
    {
     "name": "stderr",
     "output_type": "stream",
     "text": [
      "C:\\Users\\ruben\\AppData\\Local\\Temp\\ipykernel_13988\\3750994690.py:2: DtypeWarning: Columns (8) have mixed types. Specify dtype option on import or set low_memory=False.\n",
      "  tracks = pd.read_csv('../data/raw/uncleaned_tracks_features.csv')\n"
     ]
    },
    {
     "name": "stdout",
     "output_type": "stream",
     "text": [
      "<class 'pandas.core.frame.DataFrame'>\n",
      "RangeIndex: 1205095 entries, 0 to 1205094\n",
      "Data columns (total 24 columns):\n",
      " #   Column            Non-Null Count    Dtype  \n",
      "---  ------            --------------    -----  \n",
      " 0   id                1205095 non-null  object \n",
      " 1   name              1205049 non-null  object \n",
      " 2   album             1205041 non-null  object \n",
      " 3   album_id          1205052 non-null  object \n",
      " 4   artists           1205052 non-null  object \n",
      " 5   artist_ids        1205052 non-null  object \n",
      " 6   track_number      1205052 non-null  float64\n",
      " 7   disc_number       1205052 non-null  float64\n",
      " 8   explicit          1205052 non-null  object \n",
      " 9   danceability      1205052 non-null  float64\n",
      " 10  energy            1205052 non-null  float64\n",
      " 11  key               1205052 non-null  float64\n",
      " 12  loudness          1205052 non-null  float64\n",
      " 13  mode              1205052 non-null  float64\n",
      " 14  speechiness       1205052 non-null  float64\n",
      " 15  acousticness      1205052 non-null  float64\n",
      " 16  instrumentalness  1205052 non-null  float64\n",
      " 17  liveness          1205052 non-null  float64\n",
      " 18  valence           1205052 non-null  float64\n",
      " 19  tempo             1205052 non-null  float64\n",
      " 20  duration_ms       1205052 non-null  float64\n",
      " 21  time_signature    1205052 non-null  float64\n",
      " 22  year              1205052 non-null  float64\n",
      " 23  release_date      1205052 non-null  object \n",
      "dtypes: float64(16), object(8)\n",
      "memory usage: 220.7+ MB\n"
     ]
    }
   ],
   "source": [
    "# Load CSV\n",
    "tracks = pd.read_csv('../data/raw/uncleaned_tracks_features.csv')\n",
    "\n",
    "tracks.info()\n",
    "\n"
   ]
  },
  {
   "cell_type": "code",
   "execution_count": 61,
   "id": "fafe9ce3",
   "metadata": {},
   "outputs": [
    {
     "name": "stdout",
     "output_type": "stream",
     "text": [
      "Dropped 131361 rows\n",
      "<class 'pandas.core.frame.DataFrame'>\n",
      "Index: 1073734 entries, 0 to 1205093\n",
      "Data columns (total 24 columns):\n",
      " #   Column            Non-Null Count    Dtype  \n",
      "---  ------            --------------    -----  \n",
      " 0   id                1073734 non-null  object \n",
      " 1   name              1073695 non-null  object \n",
      " 2   album             1073686 non-null  object \n",
      " 3   album_id          1073698 non-null  object \n",
      " 4   artists           1073696 non-null  object \n",
      " 5   artist_ids        1073698 non-null  object \n",
      " 6   track_number      1073696 non-null  float64\n",
      " 7   disc_number       1073696 non-null  float64\n",
      " 8   explicit          1073698 non-null  object \n",
      " 9   danceability      1073697 non-null  float64\n",
      " 10  energy            1073693 non-null  float64\n",
      " 11  key               1073699 non-null  float64\n",
      " 12  loudness          1073696 non-null  float64\n",
      " 13  mode              1073696 non-null  float64\n",
      " 14  speechiness       1073696 non-null  float64\n",
      " 15  acousticness      1073697 non-null  float64\n",
      " 16  instrumentalness  1073700 non-null  float64\n",
      " 17  liveness          1073697 non-null  float64\n",
      " 18  valence           1073697 non-null  float64\n",
      " 19  tempo             1073693 non-null  float64\n",
      " 20  duration_ms       1073695 non-null  float64\n",
      " 21  time_signature    1073698 non-null  float64\n",
      " 22  year              1073698 non-null  float64\n",
      " 23  release_date      1073734 non-null  object \n",
      "dtypes: float64(16), object(8)\n",
      "memory usage: 204.8+ MB\n"
     ]
    }
   ],
   "source": [
    "# Convert all dates to YYYY-MM-DD format\n",
    "def standardize_date(date_str):\n",
    "    if pd.isna(date_str) or date_str == \"\":\n",
    "        return pd.NaT\n",
    "    if len(str(date_str)) != 10:\n",
    "        return pd.NaT\n",
    "    \n",
    "    formats = [\n",
    "        \"%Y/%m/%d\",\n",
    "        \"%Y-%m-%d\",\n",
    "        \"%d %b %Y\",\n",
    "        \"%b %d, %Y\",\n",
    "        \"%d %B %Y\",\n",
    "        \"%d-%m-%Y\",\n",
    "        \"%d/%m/%Y\",\n",
    "        \"%m/%d/%Y\",\n",
    "        \"%d/%m/%Y\"\n",
    "    ]\n",
    "    for fmt in formats:\n",
    "        try:\n",
    "            return pd.to_datetime(date_str, format=fmt)\n",
    "        except ValueError:\n",
    "            continue\n",
    "    return pd.NaT\n",
    "\n",
    "before = len(tracks)\n",
    "\n",
    "# Apply the parse_date function to the tracks date column\n",
    "tracks[\"release_date\"] = tracks[\"release_date\"].apply(standardize_date)\n",
    "\n",
    "tracks = tracks.dropna(subset=[\"release_date\"])\n",
    "\n",
    "after = len(tracks)\n",
    "print(f\"Dropped {before - after} rows\")\n",
    "\n",
    "tracks[\"release_date\"] = tracks[\"release_date\"].dt.strftime(\"%Y-%m-%d\")\n",
    "\n",
    "# Display the dataframe info\n",
    "tracks.info()\n",
    "\n"
   ]
  },
  {
   "cell_type": "code",
   "execution_count": 62,
   "id": "5d60ec68",
   "metadata": {},
   "outputs": [
    {
     "name": "stdout",
     "output_type": "stream",
     "text": [
      "There are: 0 missing values in id\n",
      "There are: 39 missing values in name\n",
      "There are: 48 missing values in album\n",
      "There are: 36 missing values in album_id\n",
      "There are: 38 missing values in artists\n",
      "There are: 36 missing values in artist_ids\n",
      "There are: 38 missing values in track_number\n",
      "There are: 38 missing values in disc_number\n",
      "There are: 36 missing values in explicit\n",
      "There are: 37 missing values in danceability\n",
      "There are: 41 missing values in energy\n",
      "There are: 35 missing values in key\n",
      "There are: 38 missing values in loudness\n",
      "There are: 38 missing values in mode\n",
      "There are: 38 missing values in speechiness\n",
      "There are: 37 missing values in acousticness\n",
      "There are: 34 missing values in instrumentalness\n",
      "There are: 37 missing values in liveness\n",
      "There are: 37 missing values in valence\n",
      "There are: 41 missing values in tempo\n",
      "There are: 39 missing values in duration_ms\n",
      "There are: 36 missing values in time_signature\n",
      "There are: 36 missing values in year\n",
      "There are: 0 missing values in release_date\n",
      "Total number of rows to be removed will be 549\n"
     ]
    }
   ],
   "source": [
    "# See how many nulls are in the dataset\n",
    "for col in tracks.columns:\n",
    "    missing = (\n",
    "        tracks[col].isnull()\n",
    "    )\n",
    "    print(f\"There are: {missing.sum()} missing values in {col}\")\n",
    "    \n",
    "print(f\"Total number of rows to be removed will be {tracks[['id', 'name', 'album', 'album_id', 'artists', 'artist_ids', 'track_number', 'disc_number', 'explicit', 'danceability', 'energy', 'key', 'loudness', 'mode', 'speechiness', 'acousticness', 'instrumentalness', 'liveness', 'valence', 'tempo', 'duration_ms', 'time_signature', 'year', 'release_date']].isnull().any(axis=1).sum()}\")"
   ]
  },
  {
   "cell_type": "code",
   "execution_count": 63,
   "id": "57975f77",
   "metadata": {},
   "outputs": [
    {
     "name": "stdout",
     "output_type": "stream",
     "text": [
      "There are: 358 duplicates in the dataset\n"
     ]
    }
   ],
   "source": [
    "# Duplicated rows in current dataset\n",
    "tracks.duplicated().sum()\n",
    "print(f\"There are: {tracks.duplicated().sum()} duplicates in the dataset\")"
   ]
  },
  {
   "cell_type": "code",
   "execution_count": 64,
   "id": "fac6a864",
   "metadata": {},
   "outputs": [
    {
     "name": "stdout",
     "output_type": "stream",
     "text": [
      "<class 'pandas.core.frame.DataFrame'>\n",
      "Index: 1073185 entries, 0 to 1205087\n",
      "Data columns (total 24 columns):\n",
      " #   Column            Non-Null Count    Dtype  \n",
      "---  ------            --------------    -----  \n",
      " 0   id                1073185 non-null  object \n",
      " 1   name              1073185 non-null  object \n",
      " 2   album             1073185 non-null  object \n",
      " 3   album_id          1073185 non-null  object \n",
      " 4   artists           1073185 non-null  object \n",
      " 5   artist_ids        1073185 non-null  object \n",
      " 6   track_number      1073185 non-null  float64\n",
      " 7   disc_number       1073185 non-null  float64\n",
      " 8   explicit          1073185 non-null  object \n",
      " 9   danceability      1073185 non-null  float64\n",
      " 10  energy            1073185 non-null  float64\n",
      " 11  key               1073185 non-null  float64\n",
      " 12  loudness          1073185 non-null  float64\n",
      " 13  mode              1073185 non-null  float64\n",
      " 14  speechiness       1073185 non-null  float64\n",
      " 15  acousticness      1073185 non-null  float64\n",
      " 16  instrumentalness  1073185 non-null  float64\n",
      " 17  liveness          1073185 non-null  float64\n",
      " 18  valence           1073185 non-null  float64\n",
      " 19  tempo             1073185 non-null  float64\n",
      " 20  duration_ms       1073185 non-null  float64\n",
      " 21  time_signature    1073185 non-null  float64\n",
      " 22  year              1073185 non-null  float64\n",
      " 23  release_date      1073185 non-null  object \n",
      "dtypes: float64(16), object(8)\n",
      "memory usage: 204.7+ MB\n"
     ]
    }
   ],
   "source": [
    "# Drop rows with missing values\n",
    "tracks = tracks.dropna(subset=['id', 'name', 'album', 'album_id', 'artists', 'artist_ids', 'track_number', 'disc_number', 'explicit', 'danceability', 'energy', 'key', 'loudness', 'mode', 'speechiness', 'acousticness', 'instrumentalness', 'liveness', 'valence', 'tempo', 'duration_ms', 'time_signature', 'year', 'release_date'])\n",
    "\n",
    "tracks.info()"
   ]
  },
  {
   "cell_type": "code",
   "execution_count": 65,
   "id": "7ad00209",
   "metadata": {},
   "outputs": [
    {
     "name": "stdout",
     "output_type": "stream",
     "text": [
      "There are: 0 missing values in id\n",
      "There are: 0 missing values in name\n",
      "There are: 0 missing values in album\n",
      "There are: 0 missing values in album_id\n",
      "There are: 0 missing values in artists\n",
      "There are: 0 missing values in artist_ids\n",
      "There are: 0 missing values in track_number\n",
      "There are: 0 missing values in disc_number\n",
      "There are: 0 missing values in explicit\n",
      "There are: 0 missing values in danceability\n",
      "There are: 0 missing values in energy\n",
      "There are: 0 missing values in key\n",
      "There are: 0 missing values in loudness\n",
      "There are: 0 missing values in mode\n",
      "There are: 0 missing values in speechiness\n",
      "There are: 0 missing values in acousticness\n",
      "There are: 0 missing values in instrumentalness\n",
      "There are: 0 missing values in liveness\n",
      "There are: 0 missing values in valence\n",
      "There are: 0 missing values in tempo\n",
      "There are: 0 missing values in duration_ms\n",
      "There are: 0 missing values in time_signature\n",
      "There are: 0 missing values in year\n",
      "There are: 0 missing values in release_date\n",
      "Total number of rows to be removed will be 0\n"
     ]
    }
   ],
   "source": [
    "# Check If the dataset is clean from null values\n",
    "# See how many nulls are in the dataset\n",
    "for col in tracks.columns:\n",
    "    missing = (\n",
    "        tracks[col].isnull()\n",
    "    )\n",
    "    print(f\"There are: {missing.sum()} missing values in {col}\")\n",
    "    \n",
    "print(f\"Total number of rows to be removed will be {tracks[['id', 'name', 'album', 'album_id', 'artists', 'artist_ids', 'track_number', 'disc_number', 'explicit', 'danceability', 'energy', 'key', 'loudness', 'mode', 'speechiness', 'acousticness', 'instrumentalness', 'liveness', 'valence', 'tempo', 'duration_ms', 'time_signature', 'year', 'release_date']].isnull().any(axis=1).sum()}\")"
   ]
  },
  {
   "cell_type": "code",
   "execution_count": 66,
   "id": "e7ad16fc",
   "metadata": {},
   "outputs": [
    {
     "name": "stdout",
     "output_type": "stream",
     "text": [
      "1072827\n"
     ]
    }
   ],
   "source": [
    "# Drop duplicates\n",
    "\n",
    "tracks = tracks.drop_duplicates()\n",
    "\n",
    "print(tracks.shape[0])"
   ]
  },
  {
   "cell_type": "code",
   "execution_count": 67,
   "id": "79094d69",
   "metadata": {},
   "outputs": [],
   "source": [
    "# Reset the indexes\n",
    "tracks.reset_index(drop=True, inplace=True)"
   ]
  },
  {
   "cell_type": "code",
   "execution_count": null,
   "id": "82d3a7c6",
   "metadata": {},
   "outputs": [],
   "source": [
    "# Save at least 10,0000 records of the cleaned CSV\n",
    "limit_tracks = tracks.head(11000)\n",
    "\n",
    "limit_tracks.to_csv(\"../tests/test_data/expected_transaction_clean_results.csv\", index=False)"
   ]
  }
 ],
 "metadata": {
  "kernelspec": {
   "display_name": ".venv",
   "language": "python",
   "name": "python3"
  },
  "language_info": {
   "codemirror_mode": {
    "name": "ipython",
    "version": 3
   },
   "file_extension": ".py",
   "mimetype": "text/x-python",
   "name": "python",
   "nbconvert_exporter": "python",
   "pygments_lexer": "ipython3",
   "version": "3.11.9"
  }
 },
 "nbformat": 4,
 "nbformat_minor": 5
}
